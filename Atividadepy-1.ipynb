{
 "cells": [
  {
   "cell_type": "code",
   "execution_count": 4,
   "metadata": {},
   "outputs": [
    {
     "name": "stdout",
     "output_type": "stream",
     "text": [
      "Sua idade atual é 16\n",
      "Sua idade em 2099 sera 92\n"
     ]
    }
   ],
   "source": [
    "import time as t\n",
    "def algoritimo_ano2099():\n",
    "    repetir = 1\n",
    "    while repetir == 1:\n",
    "        repetir -= 1\n",
    "        nascimento = int(input(\"Qual seu ano de nascença: \")) \n",
    "        ano_atual = int(input(\"Em que ano voce está: \"))\n",
    "         \n",
    "        print(\"seu ano de nascença é\", nascimento) \n",
    "        print(\"o ano em que você está\", ano_atual)\n",
    "        idade = ano_atual - nascimento\n",
    "        print(\"Sua idade atual é\",idade) \n",
    "        idade_2099 = 2099 - nascimento\n",
    "        print(\"Sua idade em 2099 sera\", idade_2099)\n",
    "        print(\"Deseja escolher um ano para ver sua idade\")\n",
    "\n",
    "        t.sleep(1)\n",
    "\n",
    "        escol = int(input(\"Digite 1 para usar outro ano ou qualquer numero se não: \"))\n",
    "        if escol == 1:\n",
    "            novo_ano = int(input(\"Digite o ano que voce quer saber sua idade: \"))\n",
    "            idade_ano = novo_ano - nascimento\n",
    "            print(\"Sua idade no ano\", novo_ano, \" será\", idade_ano)\n",
    "        \n",
    "        print(\"Deseja Continuar com outra Data de nascença\")\n",
    "\n",
    "        escolha = int(input(\"Digite 1 para continuer qualquer numero para finalizar: \"))\n",
    "        if escolha == 1:\n",
    "            repetir += 1\n",
    "        else:\n",
    "            return 'Programa Finalizado'\n",
    "\n",
    "#executar algoritimo\n",
    "algoritimo_ano2099()"
   ]
  },
  {
   "cell_type": "code",
   "execution_count": 10,
   "metadata": {},
   "outputs": [
    {
     "name": "stdout",
     "output_type": "stream",
     "text": [
      "Valor em Euro é 123.05\n"
     ]
    }
   ],
   "source": [
    "#Atividade 1 - Desafio 2\n",
    "import time as t\n",
    "def dolar_a_real():\n",
    "    repetir1 = 1\n",
    "    while repetir1 == 1:\n",
    "        repetir1 -= 1\n",
    "        repetir = 1\n",
    "        valor_normal = float(input(\"Digite um valor em dolar ou em euro para ser convertido em real: \"))\n",
    "        while repetir == 1:\n",
    "            repetir = repetir - 1\n",
    "            moeda = input(\"Escolha entre 'd' dolar e 'e' euro:\")\n",
    "            if moeda == \"d\":\n",
    "                valor_real = valor_normal * 5.01\n",
    "                moeda1 = \"Dolar\"\n",
    "            elif moeda == \"e\":\n",
    "                valor_real = valor_normal * 5.35\n",
    "                moeda1 = \"Euro\"\n",
    "            else:\n",
    "                print(\"Caractere não corespondida digite 'd' ou 'e'\")\n",
    "                repetir += 1\n",
    "        print(\"Valor em\", moeda1, \"é\", valor_normal)\n",
    "        print(\"Valor em\",moeda1,\"convertido em rea é\",valor_real)\n",
    "        t.sleep(1)\n",
    "        print(\"\\nDeseja continuar com outro valor\\n\")\n",
    "        escl = int(input(\"Digite 1 para repetir ou qualquer numero para finalizar\"))\n",
    "        if escl == 1:\n",
    "            repetir1 += 1\n",
    "        else:\n",
    "            return 'Programa Finalizado'\n",
    "\n",
    "\n",
    "#executar algoritimo\n",
    "dolar_a_real()"
   ]
  },
  {
   "cell_type": "code",
   "execution_count": 6,
   "metadata": {},
   "outputs": [
    {
     "name": "stdout",
     "output_type": "stream",
     "text": [
      "Temperatura Convertida Em fahrenheit é 53.6\n"
     ]
    }
   ],
   "source": [
    "#Atividade 1 - Desafio 3\n",
    "def algoritimo_temperatura():\n",
    "    repetir = 1\n",
    "    while repetir == 1:\n",
    "        repetir -= 1\n",
    "        temperatura_celcius = float(input(\"Digite um numero em graus Celsios: \"))\n",
    "        temperatura_f = (temperatura_celcius * 9/5)+32\n",
    "        print(\"Temperatura Convertida Em fahrenheit é\",temperatura_f)\n",
    "        escol = int(input(\"Digite 1 para continuar qualquer numero para finalizar: \"))\n",
    "        if escol == 1:\n",
    "            repetir += 1\n",
    "        else:\n",
    "            return 'Programa Finalizado'\n",
    "\n",
    "#executar algoritimo\n",
    "algoritimo_temperatura()"
   ]
  },
  {
   "cell_type": "code",
   "execution_count": 5,
   "metadata": {},
   "outputs": [
    {
     "name": "stdout",
     "output_type": "stream",
     "text": [
      "Seu IMC é 24.54\n",
      "Diaginosto Intervalo normal\n"
     ]
    }
   ],
   "source": [
    "#Atividade 1 - Desafio 4\n",
    "def algoritimo_IMC():\n",
    "    altura = float(input(\"Escreva sua Altura em metros: \"))\n",
    "    peso = float(input(\"Escreva seu Peso em Kg: \"))\n",
    "    imc = peso / altura**2\n",
    "    print(\"Seu IMC é %.2f\" % imc)\n",
    "\n",
    "    if imc == 18.50:\n",
    "        print(\"Diagnostico Baixo peso\")\n",
    "    elif imc > 18.50 and imc < 24.90:\n",
    "        print(\"Diaginosto Intervalo normal\")\n",
    "    elif imc > 24.90 and imc < 29.90:\n",
    "        print(\"Diaginosto Sobrepeso\")\n",
    "    elif imc > 29.90 and imc < 34.99:\n",
    "        print(\"Diaginostico Obessidade class 1\")\n",
    "    elif imc > 34.99 and imc < 39.90:\n",
    "        print(\"Diaginostico Obessidade class 2\")\n",
    "    else:\n",
    "        print(\"Diaginostico Obessidade class 3\")\n",
    "\n",
    "    return 'Programa Finalizado'\n",
    "\n",
    "#executar algoritimo\n",
    "algoritimo_IMC()"
   ]
  },
  {
   "cell_type": "code",
   "execution_count": 1,
   "metadata": {},
   "outputs": [
    {
     "name": "stdout",
     "output_type": "stream",
     "text": [
      "Cachorro-quente : 100 \n",
      "Bauru : 101 \n",
      "Hambúrguer : 102 \n",
      "Chesseburguer : 103 \n",
      "Refrigerante : 104\n",
      "O lanche que você pediu é Bauru\n",
      "O preço do seu lanche é: 1.30\n"
     ]
    },
    {
     "data": {
      "text/plain": [
       "'Programa Finalizada'"
      ]
     },
     "execution_count": 1,
     "metadata": {},
     "output_type": "execute_result"
    }
   ],
   "source": [
    "#Atividade 1 - Desafio 5\n",
    "def algoritimo_lanches():\n",
    "    print(\"Cachorro-quente : 100 \\nBauru : 101 \\nHambúrguer : 102 \\nChesseburguer : 103 \\nRefrigerante : 104\")\n",
    "    codigo = int(input(\"\\nEscolha o Codigo:\"))\n",
    "    match codigo:\n",
    "        case 100:\n",
    "            preco = 1.20\n",
    "            lanche = \"Cachorro-quente\"\n",
    "        case 101:\n",
    "            preco = 1.30\n",
    "            lanche = \"Bauru\"\n",
    "        case 102:\n",
    "            preco = 1.20\n",
    "            lanche = \"Hambúrguer\"\n",
    "        case 103:\n",
    "            preco = 1.30\n",
    "            lanche = \"Chesseburguer\"\n",
    "        case 104:\n",
    "            preco = 1.00\n",
    "            lanche = \"Refrigerante\"\n",
    "\n",
    "    print(\"O lanche que você pediu é\", lanche)\n",
    "    print(\"O preço do seu lanche é: %.2f\" % preco)\n",
    "\n",
    "    return 'Programa Finalizada'\n",
    "\n",
    "#executar algoritimo\n",
    "algoritimo_lanches()"
   ]
  },
  {
   "cell_type": "code",
   "execution_count": 3,
   "metadata": {},
   "outputs": [
    {
     "name": "stdout",
     "output_type": "stream",
     "text": [
      "\n",
      "Dia da semana é Sábado\n"
     ]
    },
    {
     "data": {
      "text/plain": [
       "'Programa Finalizado'"
      ]
     },
     "execution_count": 3,
     "metadata": {},
     "output_type": "execute_result"
    }
   ],
   "source": [
    "#Atividade 1 - Desafio 6\n",
    "def algoritimo_semana():\n",
    "    repetir1 = 1\n",
    "    while repetir1 == 1:\n",
    "        repetir1 -= 1\n",
    "        numero = int(input(\"Digite um numero entre 1 e 7: \"))\n",
    "        if numero >= 1 and numero <= 7:\n",
    "            print(\"\")\n",
    "        else:\n",
    "            print(\"Numero não esta entre 1 e 7 tente denovo\")\n",
    "            repetir1 += 1\n",
    "\n",
    "    match numero:\n",
    "        case 1:\n",
    "            print(\"Dia da semana é Domingo\")\n",
    "        case 2:\n",
    "            print(\"Dia da semana é Segunda-Feira\")\n",
    "        case 3:\n",
    "            print(\"Dia da semana é Terça-Feira\")\n",
    "        case 4:\n",
    "            print(\"Dia da semana é Quarta-Feira\")\n",
    "        case 5:\n",
    "            print(\"Dia da semana é Quinta-Feira\")\n",
    "        case 6:\n",
    "            print(\"Dia da semana é Sexta-Feira\")\n",
    "        case 7:\n",
    "            print(\"Dia da semana é Sábado\")\n",
    "\n",
    "    return 'Programa Finalizado'\n",
    "    \n",
    "#executar algoritimo\n",
    "algoritimo_semana()"
   ]
  },
  {
   "cell_type": "code",
   "execution_count": 2,
   "metadata": {},
   "outputs": [
    {
     "name": "stdout",
     "output_type": "stream",
     "text": [
      "Benvindo ao Algoritimo Menor numero escreva 3 numeros\n",
      "Numero 1 : 2\n",
      "Numero 2 : 13\n",
      "Numero 3 : 5\n",
      "Menor numero entre os 3 é 2\n"
     ]
    }
   ],
   "source": [
    "#Atividade 1 - Desafio 7\n",
    "def algoritimo_menor():\n",
    "    print(\"Benvindo ao Algoritimo Menor numero escreva 3 numeros\")\n",
    "    numero1 = int(input(\"Escreva o primeiro numero numero: \"))\n",
    "    numero2 = int(input(\"Escreva o segundo numero: \"))\n",
    "    numero3 = int(input(\"Escreva o terceiro numero: \"))\n",
    "\n",
    "    print(\"Numero 1 :\", numero1)\n",
    "    print(\"Numero 2 :\", numero2)\n",
    "    print(\"Numero 3 :\", numero3)\n",
    "\n",
    "    if numero1 < numero2 and numero1 < numero3:\n",
    "        menor_numero = numero1\n",
    "    elif numero2 < numero1 and numero2 < numero3:\n",
    "        menor_numero = numero2\n",
    "    elif numero3 < numero1 and numero3 < numero1:\n",
    "        menor_numero = numero3\n",
    "    \n",
    "    print(\"Menor numero entre os 3 é\", menor_numero)\n",
    "\n",
    "#executar algoritimo\n",
    "algoritimo_menor()"
   ]
  },
  {
   "cell_type": "code",
   "execution_count": 5,
   "metadata": {},
   "outputs": [
    {
     "name": "stdout",
     "output_type": "stream",
     "text": [
      "Numero impar: 1\n",
      "Numero impar: 3\n",
      "Numero impar: 5\n",
      "Numero impar: 7\n",
      "Numero impar: 9\n",
      "Numero impar: 11\n",
      "Numero impar: 13\n",
      "Numero impar: 15\n",
      "Numero impar: 17\n",
      "Numero impar: 19\n",
      "Numero impar: 21\n",
      "Numero impar: 23\n",
      "Numero impar: 25\n",
      "Numero impar: 27\n",
      "Numero impar: 29\n",
      "Numero impar: 31\n",
      "Numero impar: 33\n",
      "Numero impar: 35\n",
      "Numero impar: 37\n",
      "Numero impar: 39\n",
      "Numero impar: 41\n",
      "Numero impar: 43\n",
      "Numero impar: 45\n",
      "Numero impar: 47\n",
      "Numero impar: 49\n",
      "Numero impar: 51\n",
      "Numero impar: 53\n",
      "Numero impar: 55\n",
      "Numero impar: 57\n",
      "Numero impar: 59\n",
      "Numero impar: 61\n",
      "Numero impar: 63\n",
      "Numero impar: 65\n",
      "Numero impar: 67\n",
      "Numero impar: 69\n",
      "Numero impar: 71\n",
      "Numero impar: 73\n",
      "Numero impar: 75\n",
      "Numero impar: 77\n",
      "Numero impar: 79\n",
      "Numero impar: 81\n",
      "Numero impar: 83\n",
      "Numero impar: 85\n",
      "Numero impar: 87\n",
      "Numero impar: 89\n",
      "Numero impar: 91\n",
      "Numero impar: 93\n",
      "Numero impar: 95\n",
      "Numero impar: 97\n",
      "Numero impar: 99\n"
     ]
    }
   ],
   "source": [
    "#Atividade 1 - Desafio 8\n",
    "def algoritimo_impar():\n",
    "    i = 1\n",
    "    for i in range(1,101):\n",
    "        if i % 2 != 0:\n",
    "            print(\"Numero impar:\",i)\n",
    "\n",
    "\n",
    "#executar algoritimo\n",
    "algoritimo_impar()"
   ]
  },
  {
   "cell_type": "code",
   "execution_count": 6,
   "metadata": {},
   "outputs": [
    {
     "name": "stdout",
     "output_type": "stream",
     "text": [
      "O consumo médio de automóvel é de 1.67 km/l\n"
     ]
    }
   ],
   "source": [
    "#Atividade 1 - Desafio 9\n",
    "def algoritimo_distancia():\n",
    "    distancia = float(input(\"Digite a distancia em Km:\"))\n",
    "    combustivel = float(input(\"Digite a quantidade de combustivel gasta em litros\"))\n",
    "    consumo = distancia / combustivel\n",
    "    print(\"O consumo médio de automóvel é de %.2f\" % consumo, \"km/l\")\n",
    "\n",
    "#executar algoritimo\n",
    "algoritimo_distancia()"
   ]
  },
  {
   "cell_type": "code",
   "execution_count": 5,
   "metadata": {},
   "outputs": [
    {
     "name": "stdout",
     "output_type": "stream",
     "text": [
      "\n",
      "Conseito do/a aluno/a andrey é: Exelente\n",
      "\n",
      "1 para Continuar com outro aluno\n",
      "qualquer caractere para finalizar algoritimo\n",
      "\n",
      "Conseito do/a aluno/a leila é: Ótimo\n",
      "\n",
      "1 para Continuar com outro aluno\n",
      "qualquer caractere para finalizar algoritimo\n",
      "\n",
      "Conseito do/a aluno/a felipe é: Insuficiente\n",
      "\n",
      "1 para Continuar com outro aluno\n",
      "qualquer caractere para finalizar algoritimo\n",
      "\n",
      "Conseito do/a aluno/a matheus é: Regular\n",
      "\n",
      "1 para Continuar com outro aluno\n",
      "qualquer caractere para finalizar algoritimo\n",
      "Programa finalizado\n"
     ]
    }
   ],
   "source": [
    "#Atividade 1 - Desafio 10\n",
    "def algoritimo_notas():\n",
    "    repetir2 = 1\n",
    "    while repetir2 == 1:\n",
    "        repetir2 -= 1\n",
    "        nome = input(\"escreva o nome do aluno:\")\n",
    "        nota = float(input(\"Digite a nota:\"))\n",
    "        if nota >= 10:\n",
    "            conceito = \"Exelente\"\n",
    "        elif nota >= 8:\n",
    "            conceito = \"Ótimo\"\n",
    "        elif nota >= 7:\n",
    "            conceito = \"Bom\"\n",
    "        elif nota >= 5:\n",
    "            conceito = \"Regular\"\n",
    "        else:\n",
    "            conceito = \"Insuficiente\"\n",
    "\n",
    "        print(\"\\nConseito do/a aluno/a\",nome,\"é:\",conceito)\n",
    "        print(\"\\n1 para Continuar com outro aluno\")\n",
    "        print(\"qualquer caractere para finalizar algoritimo\")\n",
    "        pergunt = input(\"escolha:\")\n",
    "\n",
    "        if pergunt == \"1\":\n",
    "            repetir2 += 1\n",
    "        else:\n",
    "            print(\"Programa finalizado\")\n",
    "\n",
    "\n",
    "#executar algoritimo\n",
    "algoritimo_notas()"
   ]
  },
  {
   "cell_type": "code",
   "execution_count": 4,
   "metadata": {},
   "outputs": [
    {
     "name": "stdout",
     "output_type": "stream",
     "text": [
      "Digite um numero entre 1 e 12\n",
      "Digite um numero entre 1 e 12\n",
      "Digite um numero entre 1 e 12\n",
      "numero do mês é 9\n",
      "Mês é Setembro\n",
      "Estação do ano: Inverno\n"
     ]
    }
   ],
   "source": [
    "#Atividade 1 - Desafio 11\n",
    "def estação_do_mes():\n",
    "    repetir3 = 1\n",
    "    while repetir3 == 1:\n",
    "        repetir3 -= 1\n",
    "        mes = int(input(\"Digite um numero de um mês:\"))\n",
    "        if mes in (1,2,3,4,5,6,7,8,9,10,11,12):\n",
    "            match mes:\n",
    "                case 1:\n",
    "                    print(\"numero do mês é\",mes)\n",
    "                    print(\"Mês é janeiro\")\n",
    "                    print(\"Estação do ano: Verão\")\n",
    "                case 2:\n",
    "                    print(\"numero do mês é\",mes)\n",
    "                    print(\"Mês é Fevereiro\")\n",
    "                    print(\"Estação do ano: Verão\")\n",
    "                case 3:\n",
    "                    print(\"numero do mês é\",mes)\n",
    "                    print(\"Mês é Março\")\n",
    "                    print(\"Estação do ano: Verão\")\n",
    "                case 4:\n",
    "                    print(\"numero do mês é\",mes)\n",
    "                    print(\"Mês é Abril\")\n",
    "                    print(\"Estação do ano: Outono\")\n",
    "                case 5:\n",
    "                    print(\"numero do mês é\",mes)\n",
    "                    print(\"Mês é Maio\")\n",
    "                    print(\"Estação do ano: Outono\")\n",
    "                case 6:\n",
    "                    print(\"numero do mês é\",mes)\n",
    "                    print(\"Mês é Junho\")\n",
    "                    print(\"Estação do ano: Outono\")\n",
    "                case 7:\n",
    "                    print(\"numero do mês é\",mes)\n",
    "                    print(\"Mês é Julho\")\n",
    "                    print(\"Estação do ano: Inverno\")\n",
    "                case 8:\n",
    "                    print(\"numero do mês é\",mes)\n",
    "                    print(\"Mês é Agosto\")\n",
    "                    print(\"Estação do ano: Inverno\")\n",
    "                case 9:\n",
    "                    print(\"numero do mês é\",mes)\n",
    "                    print(\"Mês é Setembro\")\n",
    "                    print(\"Estação do ano: Inverno\")\n",
    "                case 10:\n",
    "                    print(\"numero do mês é\",mes)\n",
    "                    print(\"Mês é Outubro\")\n",
    "                    print(\"Estação do ano: Primaveira\")\n",
    "                case 11:\n",
    "                    print(\"numero do mês é\",mes)\n",
    "                    print(\"Mês é Novembro\")\n",
    "                    print(\"Estação do ano: Primaveira\")\n",
    "                case 12:\n",
    "                    print(\"numero do mês é\",mes)\n",
    "                    print(\"Mês é Dezembro\")\n",
    "                    print(\"Estação do ano: Primaveira\") \n",
    "        else:\n",
    "            print(\"Digite um numero entre 1 e 12\")\n",
    "            repetir3 += 1\n",
    "\n",
    "\n",
    "#executar algoritimo\n",
    "estação_do_mes()"
   ]
  }
 ],
 "metadata": {
  "kernelspec": {
   "display_name": "Python 3",
   "language": "python",
   "name": "python3"
  },
  "language_info": {
   "codemirror_mode": {
    "name": "ipython",
    "version": 3
   },
   "file_extension": ".py",
   "mimetype": "text/x-python",
   "name": "python",
   "nbconvert_exporter": "python",
   "pygments_lexer": "ipython3",
   "version": "3.11.3"
  },
  "orig_nbformat": 4
 },
 "nbformat": 4,
 "nbformat_minor": 2
}

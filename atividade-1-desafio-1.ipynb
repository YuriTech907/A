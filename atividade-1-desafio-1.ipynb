{
 "cells": [
  {
   "cell_type": "code",
   "execution_count": null,
   "metadata": {},
   "outputs": [],
   "source": [
    "#Atividade 1 - Desafio 1\n",
    "import time as t\n",
    "def algoritimo_ano2099():\n",
    "    repetir = 1\n",
    "    while repetir == 1:\n",
    "        repetir -= 1\n",
    "        nascimento = int(input(\"Qual seu ano de nascença: \")) \n",
    "        ano_atual = int(input(\"Em que ano voce está: \")) \n",
    "        print(\"seu ano de nascença é\", nascimento) \n",
    "        print(\"o ano em que você está\", ano_atual)\n",
    "        idade = ano_atual - nascimento\n",
    "        print(\"Sua idade atual é\",idade) \n",
    "        idade_2099 = 2099 - nascimento\n",
    "        print(\"Sua idade em 2099 sera\", idade_2099)\n",
    "        print(\"Deseja escolher um ano para ver sua idade\")\n",
    "\n",
    "        t.sleep(1)\n",
    "\n",
    "        escol = int(input(\"Digite 1 para usar outro ano ou qualquer numero se não: \"))\n",
    "        if escol == 1:\n",
    "            novo_ano = int(input(\"Digite o ano que voce quer saber sua idade: \"))\n",
    "            idade_ano = novo_ano - nascimento\n",
    "            print(\"Sua idade no ano\", novo_ano, \" será\", idade_ano)\n",
    "        \n",
    "        print(\"Deseja Continuar com outra Data de nascença\")\n",
    "\n",
    "        escolha = int(input(\"Digite 1 para continuer qualquer numero para finalizar: \"))\n",
    "        if escolha == 1:\n",
    "            repetir += 1\n",
    "        else:\n",
    "            return 'Programa Finalizado'\n",
    "\n",
    "#executar algoritimo\n",
    "algoritimo_ano2099()"
   ]
  }
 ],
 "metadata": {
  "kernelspec": {
   "display_name": "Python 3",
   "language": "python",
   "name": "python3"
  },
  "language_info": {
   "codemirror_mode": {
    "name": "ipython",
    "version": 3
   },
   "file_extension": ".py",
   "mimetype": "text/x-python",
   "name": "python",
   "nbconvert_exporter": "python",
   "pygments_lexer": "ipython3",
   "version": "3.11.3"
  },
  "orig_nbformat": 4
 },
 "nbformat": 4,
 "nbformat_minor": 2
}

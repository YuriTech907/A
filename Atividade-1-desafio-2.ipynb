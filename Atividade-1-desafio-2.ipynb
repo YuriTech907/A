{
 "cells": [
  {
   "cell_type": "code",
   "execution_count": 3,
   "metadata": {},
   "outputs": [
    {
     "name": "stdout",
     "output_type": "stream",
     "text": [
      "Valor em Dolar é 5.24\n",
      "Valor em Dolar convertido em rea é 26.2524\n",
      "\n",
      "Deseja continuar com outro valor\n",
      "\n",
      "Valor em Euro é 4.5\n",
      "Valor em Euro convertido em rea é 24.075\n",
      "\n",
      "Deseja continuar com outro valor\n",
      "\n"
     ]
    },
    {
     "data": {
      "text/plain": [
       "'Pograma Finalizado'"
      ]
     },
     "execution_count": 3,
     "metadata": {},
     "output_type": "execute_result"
    }
   ],
   "source": [
    "#Atividade 1 - Desafio 2\n",
    "import time as t\n",
    "def dolar_a_real():\n",
    "    repetir1 = 1\n",
    "    while repetir1 == 1:\n",
    "        repetir1 -= 1\n",
    "        repetir = 1\n",
    "        valor_normal = float(input(\"Digite um valor em dolar ou em euro para ser convertido em real: \"))\n",
    "        while repetir == 1:\n",
    "            repetir = repetir - 1\n",
    "            moeda = input(\"Escolha entre 'd' dolar e 'e' euro:\")\n",
    "            if moeda == \"d\":\n",
    "                valor_real = valor_normal * 5.01\n",
    "                moeda1 = \"Dolar\"\n",
    "            elif moeda == \"e\":\n",
    "                valor_real = valor_normal * 5.35\n",
    "                moeda1 = \"Euro\"\n",
    "            else:\n",
    "                print(\"Caractere não corespondida digite 'd' ou 'e'\")\n",
    "                repetir += 1\n",
    "        print(\"Valor em\", moeda1, \"é\", valor_normal)\n",
    "        print(\"Valor em\",moeda1,\"convertido em rea é\",valor_real)\n",
    "        t.sleep(1)\n",
    "        print(\"\\nDeseja continuar com outro valor\\n\")\n",
    "        escl = int(input(\"Digite 1 para repetir ou qualquer numero para finalizar\"))\n",
    "        if escl == 1:\n",
    "            repetir1 += 1\n",
    "        else:\n",
    "            return 'Pograma Finalizado'\n",
    "\n",
    "\n",
    "#executar algoritimo\n",
    "dolar_a_real()"
   ]
  }
 ],
 "metadata": {
  "kernelspec": {
   "display_name": "Python 3",
   "language": "python",
   "name": "python3"
  },
  "language_info": {
   "codemirror_mode": {
    "name": "ipython",
    "version": 3
   },
   "file_extension": ".py",
   "mimetype": "text/x-python",
   "name": "python",
   "nbconvert_exporter": "python",
   "pygments_lexer": "ipython3",
   "version": "3.10.4"
  },
  "orig_nbformat": 4
 },
 "nbformat": 4,
 "nbformat_minor": 2
}

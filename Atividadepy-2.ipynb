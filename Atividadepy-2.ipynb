{
 "cells": [
  {
   "cell_type": "code",
   "execution_count": 4,
   "metadata": {},
   "outputs": [
    {
     "name": "stdout",
     "output_type": "stream",
     "text": [
      "-------------------------\n",
      "Algoritimo Média do aluno\n",
      "-------------------------\n",
      "aluno Andrey Recuperação\n",
      "Nota: 4.51\n",
      "Repetir Diagnostico Com outro aluno\n",
      "-------------------------\n",
      "Algoritimo Média do aluno\n",
      "-------------------------\n",
      "aluno Yuri Aprovado\n",
      "Nota: 8.81\n",
      "Repetir Diagnostico Com outro aluno\n"
     ]
    },
    {
     "data": {
      "text/plain": [
       "'Programa finalizado'"
      ]
     },
     "execution_count": 4,
     "metadata": {},
     "output_type": "execute_result"
    }
   ],
   "source": [
    "#Atividade 2 - Desafio 1\n",
    "import time as t\n",
    "def algoritimo_media():\n",
    "    repetir1 = 1\n",
    "    while repetir1 == 1:\n",
    "        repetir1 -= 1 \n",
    "        repetir = 1\n",
    "        print(\"-------------------------\")\n",
    "        print(\"Algoritimo Média do aluno\")\n",
    "        print(\"-------------------------\")\n",
    "        while repetir == 1:\n",
    "            repetir -= 1\n",
    "            nome = input(\"Digite o nome do aluno:\")\n",
    "            nota = float(input(\"Escreva a nota do aluno:\"))\n",
    "            if nota >= 0 and nota <= 3.9:\n",
    "                print(\"aluno\", nome ,\"Em processo de Aprendizagem\")\n",
    "                print(\"Nota: %.2f\" % nota)\n",
    "            elif nota >= 4 and nota <= 7.9:\n",
    "                print(\"aluno\", nome ,\"Recuperação\")\n",
    "                print(\"Nota: %.2f\" % nota)\n",
    "            elif nota >= 8 and nota <= 10:\n",
    "                print(\"aluno\", nome ,\"Aprovado\")\n",
    "                print(\"Nota: %.2f\" % nota)\n",
    "            else:\n",
    "                print(\"Numero ou caractere não corespondida\")\n",
    "                repetir += 1\n",
    "\n",
    "        t.sleep(1)\n",
    "        print(\"Repetir Diagnostico Com outro aluno\")\n",
    "        escl = int(input(\"Digite 1 para repetir\"))\n",
    "        if escl == 1:\n",
    "            repetir1 += 1\n",
    "\n",
    "    return 'Programa finalizado'\n",
    "\n",
    "#executar algoritimo\n",
    "algoritimo_media()"
   ]
  },
  {
   "cell_type": "code",
   "execution_count": 81,
   "metadata": {},
   "outputs": [
    {
     "name": "stdout",
     "output_type": "stream",
     "text": [
      "----------------------------\n",
      "Algoritimo PlayStation Store\n",
      "----------------------------\n",
      "Cores para escolher Verde; Azul; Amarelo; Vermelho\n",
      "\n",
      "Cor ou Caracteres não corespondidas\n",
      "\n",
      "Cores para escolher Verde; Azul; Amarelo; Vermelho\n",
      "\n",
      "Cor escolhida: vermelho Preço da cor: R$40.00\n"
     ]
    },
    {
     "data": {
      "text/plain": [
       "'Programa finalizado'"
      ]
     },
     "execution_count": 81,
     "metadata": {},
     "output_type": "execute_result"
    }
   ],
   "source": [
    "#Atividade 2 - Desafio 2\n",
    "def algoritimo_cores():\n",
    "    repetir = 1\n",
    "    print(\"----------------------------\")\n",
    "    print(\"Algoritimo PlayStation Store\")\n",
    "    print(\"----------------------------\")\n",
    "    \n",
    "    while repetir == 1:\n",
    "        repetir -= 1\n",
    "        \n",
    "        print(\"Cores para escolher Verde; Azul; Amarelo; Vermelho\")\n",
    "        cores = input(\"Digite umas das Cores:\")\n",
    "        if cores == \"Verde\" or cores == \"verde\":\n",
    "            preco = 10.00\n",
    "        elif cores == \"Azul\" or cores == \"azul\":\n",
    "            preco = 20.00\n",
    "        elif cores == \"Amarelo\" or cores == \"amarelo\":\n",
    "            preco = 30.00\n",
    "        elif cores == \"Vermelho\" or cores == \"vermelho\":\n",
    "            preco = 40.00\n",
    "        else:\n",
    "            print(\"\\nCor ou Caracteres não corespondidas\\n\")\n",
    "            repetir += 1\n",
    "\n",
    "    print(\"\\nCor escolhida:\", cores ,\"Preço da cor: R$%.2f\" % preco)\n",
    "\n",
    "    return 'Programa finalizado'\n",
    "\n",
    "#executar algoritimo\n",
    "algoritimo_cores()"
   ]
  },
  {
   "cell_type": "code",
   "execution_count": 82,
   "metadata": {},
   "outputs": [
    {
     "name": "stdout",
     "output_type": "stream",
     "text": [
      "----------------------------------------\n",
      "Algoritimo menor numero entre 3 numeros\n",
      "----------------------------------------\n",
      "numero 1 é 1.90\n",
      "numero 2 é 3.91\n",
      "numero 3 é 3.99\n",
      "\n",
      "O menor numero entre os 3 é 1.90\n"
     ]
    },
    {
     "data": {
      "text/plain": [
       "'Programa finalizado'"
      ]
     },
     "execution_count": 82,
     "metadata": {},
     "output_type": "execute_result"
    }
   ],
   "source": [
    "#Atividade 2 - Desafio 3\n",
    "def algoritimo_menor():\n",
    "    print(\"----------------------------------------\")\n",
    "    print(\"Algoritimo menor numero entre 3 numeros\")\n",
    "    print(\"----------------------------------------\")\n",
    "    numero1 = float(input(\"Digite o primeiro numero:\"))\n",
    "    numero2 = float(input(\"Digite o segundo numero:\"))\n",
    "    numero3 = float(input(\"Digite o terceiro numero:\"))\n",
    "    print(\"numero 1 é %.2f\" % numero1)\n",
    "    print(\"numero 2 é %.2f\" % numero2)\n",
    "    print(\"numero 3 é %.2f\" % numero3)\n",
    "\n",
    "    if numero1 < numero2 and numero1 < numero3:\n",
    "        print(\"\\nO menor numero entre os 3 é %.2f\"% numero1)\n",
    "    elif numero2 < numero1 and numero2 < numero3:\n",
    "        print(\"\\nO nenor numero entre os 3 é %.2f\" % numero2)\n",
    "    elif numero3 < numero1 and numero3 < numero2:\n",
    "        print(\"\\nO menor numero entre os 3 é %.2f\" % numero3)\n",
    "\n",
    "    return 'Programa finalizado'\n",
    "\n",
    "\n",
    "#executar algoritimo\n",
    "algoritimo_menor()"
   ]
  },
  {
   "cell_type": "code",
   "execution_count": 84,
   "metadata": {},
   "outputs": [
    {
     "name": "stdout",
     "output_type": "stream",
     "text": [
      "-------------------------------------\n",
      "Algoritimo se o numero é par ou impar\n",
      "-------------------------------------\n",
      "Numero escolhido é Impar\n",
      "Numero: 1.00\n"
     ]
    },
    {
     "data": {
      "text/plain": [
       "'Programa finalizado'"
      ]
     },
     "execution_count": 84,
     "metadata": {},
     "output_type": "execute_result"
    }
   ],
   "source": [
    "#Atividade 2 - Desafio 4\n",
    "def algoritimo_par_impar():\n",
    "    print(\"-------------------------------------\")\n",
    "    print(\"Algoritimo se o numero é par ou impar\")\n",
    "    print(\"-------------------------------------\")\n",
    "    numero = float(input(\"Digite um numero:\"))\n",
    "    if numero % 2 == 0:\n",
    "        print(\"Numero escolhido é Par\")\n",
    "        print(\"Numero: %.2f\" % numero)\n",
    "    else:\n",
    "        print(\"Numero escolhido é Impar\")\n",
    "        print(\"Numero: %.2f\" % numero)\n",
    "    \n",
    "    return 'Programa finalizado'\n",
    "\n",
    "\n",
    "#executar algoritimo\n",
    "algoritimo_par_impar()"
   ]
  },
  {
   "cell_type": "code",
   "execution_count": 85,
   "metadata": {},
   "outputs": [
    {
     "name": "stdout",
     "output_type": "stream",
     "text": [
      "------------------------------------\n",
      "Algoritimo excesso no quilo do peixe\n",
      "------------------------------------\n",
      "Kilo do peixe: 59.81\n",
      "Conforme o regulamento de pesca do estado do Pará\n",
      "A multa a ser paga R$39.24\n"
     ]
    },
    {
     "data": {
      "text/plain": [
       "'Programa finalizado'"
      ]
     },
     "execution_count": 85,
     "metadata": {},
     "output_type": "execute_result"
    }
   ],
   "source": [
    "#Atividade 2 - Desafio 5\n",
    "def algoritimo_50_quilos():\n",
    "    print(\"------------------------------------\")\n",
    "    print(\"Algoritimo excesso no quilo do peixe\")\n",
    "    print(\"------------------------------------\")\n",
    "    peso_peixe = float(input(\"Digite o Peso do Peixe em Kilos:\"))\n",
    "    print(\"Kilo do peixe:\", peso_peixe)\n",
    "    if peso_peixe > 50:\n",
    "        extra = peso_peixe - 50\n",
    "        excesso = 4.00\n",
    "        print(\"Conforme o regulamento de pesca do estado do Pará\")\n",
    "        multa = excesso * extra\n",
    "    else:\n",
    "        print(\"Valor dentro dos regulamentos de pesca do estado do Pará\")\n",
    "        multa = 0\n",
    "    \n",
    "    print(\"A multa a ser paga R$%.2f\" % multa)\n",
    "\n",
    "    return 'Programa finalizado'\n",
    "\n",
    "#executar algoritimo\n",
    "algoritimo_50_quilos()"
   ]
  },
  {
   "cell_type": "code",
   "execution_count": 86,
   "metadata": {},
   "outputs": [
    {
     "name": "stdout",
     "output_type": "stream",
     "text": [
      "---------------------------\n",
      "Algoritimo valor do salario\n",
      "---------------------------\n",
      "O salario é R$505.00\n",
      "O excedente é R$10.00\n",
      "Salario total é R$515.00\n"
     ]
    },
    {
     "data": {
      "text/plain": [
       "'Programa finalizado'"
      ]
     },
     "execution_count": 86,
     "metadata": {},
     "output_type": "execute_result"
    }
   ],
   "source": [
    "#Atividade 2 - Desafio 6\n",
    "def algoritimo_codigo():\n",
    "    print(\"---------------------------\")\n",
    "    print(\"Algoritimo valor do salario\")\n",
    "    print(\"---------------------------\")\n",
    "    codigo = float(input(\"Digite a quantidade de horas trabalhadas:\"))\n",
    "    if codigo > 50:\n",
    "        excesso = codigo - 50\n",
    "        excedente = excesso * 20\n",
    "        salario = codigo * 10\n",
    "    else:\n",
    "        salario = codigo * 10\n",
    "        excedente = 0\n",
    "   \n",
    "    salario_total = salario + excedente\n",
    "    print(\"O salario é R$%.2f\" % salario)\n",
    "    print(\"O excedente é R$%.2f\" % excedente)\n",
    "    print(\"Salario total é R$%.2f\" % salario_total)\n",
    "\n",
    "    return 'Programa finalizado'\n",
    "\n",
    "#executar algoritimo\n",
    "algoritimo_codigo()"
   ]
  },
  {
   "cell_type": "code",
   "execution_count": 90,
   "metadata": {},
   "outputs": [
    {
     "name": "stdout",
     "output_type": "stream",
     "text": [
      "-----------------------------\n",
      "Algoritimo Indice de Poluição\n",
      "-----------------------------\n",
      "OS grupos devem proseguir normalmente suas atividades\n",
      "Grupo 1: 0.24 Está dentro do índice\n",
      "Grupo 2: 0.30 Não está dentro do índice\n",
      "Grupo 3: 0.27 Não está dentro do índice\n"
     ]
    },
    {
     "data": {
      "text/plain": [
       "'Programa finalizado'"
      ]
     },
     "execution_count": 90,
     "metadata": {},
     "output_type": "execute_result"
    }
   ],
   "source": [
    "#Atividade 2 - desafio 7\n",
    "def algoritimo_meio_ambiente():\n",
    "    print(\"-----------------------------\")\n",
    "    print(\"Algoritimo Indice de Poluição\")\n",
    "    print(\"-----------------------------\")\n",
    "    grupo1 = float(input(\"Digite o índice do primeiro grupo:\"))\n",
    "    grupo2 = float(input(\"Digite o índice do segundo grupo:\"))\n",
    "    grupo3 = float(input(\"Digite o índice do treceiro grupo:\"))\n",
    "\n",
    "    if grupo1 < 0.25:\n",
    "        resposta1 = \"Está dentro do índice\"\n",
    "    else:\n",
    "        resposta1 = \"Não está dentro do índice\"\n",
    "    \n",
    "    if grupo2 < 0.25:\n",
    "        resposta2 = \"Está dentro do índice\"\n",
    "    else:\n",
    "        resposta2 = \"Não está dentro do índice\"\n",
    "    \n",
    "    if grupo3 < 0.25:\n",
    "        resposta3 = \"Está dentro do índice\"\n",
    "    else:\n",
    "        resposta3 = \"Não está dentro do índice\"\n",
    "\n",
    "    if grupo3 >= 0.3 and grupo2 >= 0.3 and grupo1 >= 0.3:\n",
    "        print(\"as indústrias do 1º grupo são intimadas a suspenderem suas atividades\")\n",
    "    elif grupo3 >= 0.4 and grupo2 >= 0.4 and grupo1 >= 0.4:\n",
    "        print(\"as indústrias do 1º e 2º grupo são intimadas a suspenderem suas atividades\")\n",
    "    elif grupo3 >= 0.5 and grupo2 >= 0.5 and grupo1 >= 0.5:\n",
    "        print(\"todos os grupos devem ser notificados a paralisarem suas atividades.\")\n",
    "    else:\n",
    "        print(\"OS grupos devem proseguir normalmente suas atividades\")\n",
    "    print(\"Grupo 1: %.2f\" % grupo1, resposta1)\n",
    "    print(\"Grupo 2: %.2f\" % grupo2, resposta2)\n",
    "    print(\"Grupo 3: %.2f\" % grupo3, resposta3)\n",
    "    \n",
    "    return 'Programa finalizado'\n",
    "    \n",
    "#executar algoritimo\n",
    "algoritimo_meio_ambiente()"
   ]
  },
  {
   "cell_type": "code",
   "execution_count": 60,
   "metadata": {},
   "outputs": [
    {
     "name": "stdout",
     "output_type": "stream",
     "text": [
      "-------------------------------\n",
      "Algoritimo númeo é ou não primo\n",
      "-------------------------------\n",
      "Numero digitado: 2\n",
      "2 é primo\n",
      "Digite '1' para testar com outro numero ou 'qualquer numero' pra finalizar\n",
      "Numero digitado: 1\n",
      "1 é um\n",
      "Digite '1' para testar com outro numero ou 'qualquer numero' pra finalizar\n",
      "6 não é primo\n",
      "Digite '1' para testar com outro numero ou 'qualquer numero' pra finalizar\n"
     ]
    },
    {
     "data": {
      "text/plain": [
       "'Programa Finalizado'"
      ]
     },
     "execution_count": 60,
     "metadata": {},
     "output_type": "execute_result"
    }
   ],
   "source": [
    "#Ativadade 2 - Desafio 8\n",
    "def algoritimo_primo():\n",
    "    repetir = 1\n",
    "    print(\"-------------------------------\")\n",
    "    print(\"Algoritimo númeo é ou não primo\")\n",
    "    print(\"-------------------------------\")\n",
    "    while repetir == 1:\n",
    "        repetir -= 1\n",
    "        n = int(input(\"Digite um numero primos: \"))\n",
    "    \n",
    "        if n > 1:\n",
    "            for i in range(2, n):\n",
    "                if n % i == 0:\n",
    "                    print(n, 'não é primo')\n",
    "                    break\n",
    "            else:\n",
    "                print('Numero digitado:', n)\n",
    "                print(n, 'é primo')\n",
    "        elif n == 0:\n",
    "            print('Numero digitado:', n)\n",
    "            print(n, 'é zero')\n",
    "        elif n == 1:\n",
    "            print('Numero digitado:', n)\n",
    "            print(n, 'é um')\n",
    "        else:\n",
    "            print('Numero digitado:', n)\n",
    "            print(n, 'é negativo')\n",
    "        \n",
    "        print(\"Digite '1' para testar com outro numero ou 'qualquer numero' pra finalizar\")\n",
    "        escolha = int(input(\"Digite sua escolha:\"))\n",
    "        if escolha == 1:\n",
    "            repetir += 1\n",
    "        else:\n",
    "            return 'Programa Finalizado'\n",
    "\n",
    "#executar algoritimo\n",
    "algoritimo_primo()"
   ]
  },
  {
   "cell_type": "code",
   "execution_count": 92,
   "metadata": {},
   "outputs": [
    {
     "name": "stdout",
     "output_type": "stream",
     "text": [
      "------------------------------------------\n",
      "Algoritimo Volume de água em um recipiente\n",
      "------------------------------------------\n",
      "Largura: 5.0\n",
      "Comprimento: 3.0\n",
      "Altura / Profundidade: 1.8\n",
      "\n",
      "O volume do cubo é  27.0\n",
      "Litros do recipiente é 27000\n"
     ]
    },
    {
     "data": {
      "text/plain": [
       "'Programa Finalizado'"
      ]
     },
     "execution_count": 92,
     "metadata": {},
     "output_type": "execute_result"
    }
   ],
   "source": [
    "#Atividade 2 - Desafio 9\n",
    "from time import sleep\n",
    "def algoritimo_volume():\n",
    "    print(\"------------------------------------------\")\n",
    "    print(\"Algoritimo Volume de água em um recipiente\")\n",
    "    print(\"------------------------------------------\")\n",
    "    sleep(0.5)\n",
    "    lado1 = float(input(\"Digite o valor da largura em metros:\"))\n",
    "    lado2 = float(input(\"Digite o valor do comprimento em metros:\"))\n",
    "    profundidade = float(input(\"Digite o valor da profundidade em metros:\"))\n",
    "    print(\"Largura: {}\".format(lado1))\n",
    "    print(\"Comprimento: {}\".format(lado2))\n",
    "    print(\"Altura / Profundidade: {}\".format(profundidade))\n",
    "\n",
    "    volume = lado1 * lado2 * profundidade\n",
    "    litros = int(volume * 1000)\n",
    "    print(\"\\nO volume do cubo é \", volume)\n",
    "    print(\"Litros do recipiente é\", litros)\n",
    "\n",
    "    return 'Programa Finalizado'\n",
    "\n",
    "#executar algoritimo\n",
    "algoritimo_volume()"
   ]
  },
  {
   "cell_type": "code",
   "execution_count": 5,
   "metadata": {},
   "outputs": [
    {
     "name": "stdout",
     "output_type": "stream",
     "text": [
      "--------------------------------\n",
      "Algoritimo Quilometros por litro\n",
      "--------------------------------\n",
      "quilometros por litros: 7 km/l\n",
      "quilometros por litros: 15 km/l\n"
     ]
    },
    {
     "data": {
      "text/plain": [
       "'Programa finalizado'"
      ]
     },
     "execution_count": 5,
     "metadata": {},
     "output_type": "execute_result"
    }
   ],
   "source": [
    "#Atividade 2 - Desafio 10\n",
    "def algoritmo_q_litro():\n",
    "    print(\"--------------------------------\")\n",
    "    print(\"Algoritimo Quilometros por litro\")\n",
    "    print(\"--------------------------------\")\n",
    "    repetir = 1\n",
    "    while repetir == 1:\n",
    "        repetir -= 1\n",
    "        quilometros_p = float(input(\"Digiteme a distancia percorrida em Km:\"))\n",
    "        litros = float(input(\"Digite a quantidade de litros gastos:\"))\n",
    "        quilometros_l = quilometros_p / litros\n",
    "        print('quilometros por litros: {} km/l'.format(int(quilometros_l)))\n",
    "        escolha = int(input(\"Aperte 1 para repetir ou qualquer numero para encerrar\"))\n",
    "        if escolha == 1:\n",
    "            repetir += 1\n",
    "\n",
    "    return 'Programa finalizado'\n",
    "\n",
    "#executar algoritimo\n",
    "algoritmo_q_litro()"
   ]
  }
 ],
 "metadata": {
  "kernelspec": {
   "display_name": "Python 3",
   "language": "python",
   "name": "python3"
  },
  "language_info": {
   "codemirror_mode": {
    "name": "ipython",
    "version": 3
   },
   "file_extension": ".py",
   "mimetype": "text/x-python",
   "name": "python",
   "nbconvert_exporter": "python",
   "pygments_lexer": "ipython3",
   "version": "3.11.3"
  },
  "orig_nbformat": 4
 },
 "nbformat": 4,
 "nbformat_minor": 2
}
